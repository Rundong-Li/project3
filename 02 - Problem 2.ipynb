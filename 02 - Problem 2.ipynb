{
 "cells": [
  {
   "cell_type": "markdown",
   "metadata": {},
   "source": [
    "# Project 3: Density Functional Theory and Machine Learning\n",
    "\n",
    "## Problem 2: Convergence Tests\n",
    "In this problem you will be analyzing the results of convergence tests. In general, during a DFT structure optimization run the system's energy decreases with little fluctuation and eventually reaches the ground state. Reaching the ground state in this fashion is an example of convergence and is required for a meaningful run. To ensure that a new system converges it is necessary to perform proper convergence tests to avoid any chance of divergence or other situations where your system does not reach the ground state. Running without checking the following convergence can result in you ending up with incorrect results. The two most important convergence checks are ENCUT and the k-points mesh. "
   ]
  },
  {
   "cell_type": "markdown",
   "metadata": {},
   "source": [
    "### Part A: ENCUT convergence test\n",
    "\n",
    "In the directory \"convergence_test_results/ENCUT_convergence\" you will find subdirectories that contain input files (POTCAR, POSCAR, INCAR, KPOINTS) and output files (OUTCAR, stdout) that correspond to convergence tests run for both diamond cubic and $\\beta$-Sn silicon. For the DC-Si runs, the lattice parameter was set to the experimental value, 5.43 Angstroms, and the k-point sampling was set to 6x6x6. \n",
    "\n",
    "The ENCUT flag is found in the INCAR file while k-points can be set in the KPOINTS file.\n",
    "\n",
    "$$ E_{cut} \\geq \\frac{1}{2} |k+G|^2$$\n",
    "\n",
    "This sets the energy of the planwaves (PWs) that will be included. Only PWs with energies less than this cutoff energy are used in the calculation. ENCUT is generally in the range of 150 – 400 eV, default values for ENMIN and ENMAX are given in the POTCAR file. The value of ENCUT will vary depending on the setup and the system. \n",
    "\n",
    "The directory \"convergence_test_results/ENCUT_convergence\" contains the results for a scan through ENCUT for values between 150 and 350. You will make a plot of the final energy for each run vs. the ENCUT value and determine the maximum appropriate ENCUT. **You must find the correct value for ENCUT prior to proceeding any further in the project.**\n",
    "\n",
    "---"
   ]
  },
  {
   "cell_type": "code",
   "execution_count": 15,
   "metadata": {},
   "outputs": [],
   "source": [
    "import matplotlib.pyplot as plt\n",
    "from math import log\n",
    "\n",
    "# Helper function to plot convergence test data.\n",
    "def plot_convergence(parameters, energies, xlabel=\"Cutoff Energy, $E_{cut} $ (eV)\", \n",
    "                     ylabel=\"Energy (eV/atom)\", save_fig=False, filename=\"DC_ENCUT_conv.png\"):\n",
    "    \"\"\"Helper function to create convergence plots. \n",
    "    \n",
    "    Arguments:\n",
    "        parameters (list of int/float): independent variable (e.g. ENCUT or KPOINTS)\n",
    "        energies (list of float): resulting final energies\n",
    "        xlabel (str): label for the x-axis\n",
    "        ylabel (str): label for you y-axis\n",
    "        \"\"\"\n",
    "    \n",
    "    # plot the data\n",
    "    plt.plot(parameters, energies, 'rx')\n",
    "    plt.plot(parameters, energies, 'b-')\n",
    "    \n",
    "    # add labels to the plot\n",
    "    plt.xlabel(xlabel)\n",
    "    plt.ylabel(ylabel)\n",
    "    \n",
    "    # saves the plot in convergence_test_results/plots/ (WILL OVERWRITE FILES IF FILENAME IS NOT CHANGED)\n",
    "    if save_fig:\n",
    "        plt.savefig(\"convergence_test_results/plots/DC_ENCUT_conv.png\", bbox_inches='tight')\n",
    "    # show the plot here\n",
    "    plt.show()\n",
    "    \n",
    "\n",
    "\n"
   ]
  },
  {
   "cell_type": "code",
   "execution_count": 18,
   "metadata": {},
   "outputs": [
    {
     "data": {
      "image/png": "[encoded data removed]",
      "text/plain": [
       "<Figure size 432x288 with 1 Axes>"
      ]
     },
     "metadata": {
      "needs_background": "light"
     },
     "output_type": "display_data"
    }
   ],
   "source": [
    "toy_ENCUTS = [100, 150, 200, 250, 300, 350, 400, 450, 500]\n",
    "toy_energies = [log(i)/i for i in example_ENCUTS]\n",
    "\n",
    "# Example usage for plot_convergence\n",
    "plot_convergence(toy_ENCUTS, toy_energies, \n",
    "                 xlabel=\"Cutoff Energy, $E_{cut} $ (eV)\", \n",
    "                 ylabel=\"Energy (eV/atom)\")"
   ]
  },
  {
   "cell_type": "markdown",
   "metadata": {},
   "source": [
    "### Part B: KPOINTS convergence test\n",
    "\n",
    "Similarly, we have prepared a set of convergence test runs for different k-point densities, which can be found in the directory [convergence_test_results/KPOINTS_convergence](convergence_test_results/KPOINTS_convergence). Each subfolder of Si_BSn and Si_DC corresponds to a different value for ENCUT. Using the value of ENCUT you found in Part 2B, plot the convergence with k-point density. The k-points are generated using a standard method Monkhorst-Pack; the original paper by Monkhorst and Pack has been posted to bCourse. \n",
    "\n",
    "You will incrementally increase the fineness of the k-points grid until a convergence is attained to within 10 meV (do this by selecting which data you plot). You will use results from 2x2x2 to 12x12x12 until convergence is obtained. **You must find the correct value for ENCUT prior to proceeding any further in the project.**\n",
    "\n",
    "---"
   ]
  },
  {
   "cell_type": "code",
   "execution_count": null,
   "metadata": {},
   "outputs": [],
   "source": []
  },
  {
   "cell_type": "markdown",
   "metadata": {},
   "source": [
    "### Part C: Critical Evaluation of DFT Calculations\n",
    "\n",
    "The following is an excerpt from a paper which proports to have used *ab initio* density functional theory to study a new energy material, sherburnium. \n",
    "\n",
    "> *Ab-initio* density functional theory calculations were performed to determine the ground state structure, band gap, and phase stability of a new energy material, sherburnite. All calculations were performed using the Vienna Ab-initio Simulation Package (VASP) using a Gaussian-type basis set for periodic systems. Exchange-correlation effects of the electronic density are accounted for using the Perdew–Burke–Ernzerhof (PBE) functional and a mesh of 1000 k-points per reciprocal atom were used with a cutoff energy of 250eV (thus allowing efficient calculations). Although a phase transformation has been observed above 300K from the cubic dagdeline phase to the tetragonal sherburnite phase, our calculations show that the ground state energy of the tetragonal phase at 0K is actually 0.010 eV lower than that of the cubic phase. This indicates that the cubic dagdeline phase is only metastable at low temperatures. We calculate tetragonal sherburnite’s band gap to be 1.90 eV, which indicates the compound may also be a good candidate for X APPLICATION, which is widely believed to required a bandgap below 2.0 eV...\n",
    "\n",
    "In your report, please evaluate the calculation details of this study and discuss any problems with the authors' methodology, understanding of VASP, or interpretation of their results. \n",
    "\n",
    "---"
   ]
  },
  {
   "cell_type": "code",
   "execution_count": null,
   "metadata": {},
   "outputs": [],
   "source": []
  }
 ],
 "metadata": {
  "kernelspec": {
   "display_name": "Python [conda env:mse215] *",
   "language": "python",
   "name": "conda-env-mse215-py"
  },
  "language_info": {
   "codemirror_mode": {
    "name": "ipython",
    "version": 3
   },
   "file_extension": ".py",
   "mimetype": "text/x-python",
   "name": "python",
   "nbconvert_exporter": "python",
   "pygments_lexer": "ipython3",
   "version": "3.7.1"
  }
 },
 "nbformat": 4,
 "nbformat_minor": 2
}
