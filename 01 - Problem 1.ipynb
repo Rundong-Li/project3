{
 "cells": [
  {
   "cell_type": "markdown",
   "metadata": {},
   "source": [
    "# Problem 1: VASP Input Files"
   ]
  },
  {
   "cell_type": "markdown",
   "metadata": {},
   "source": [
    "First, we need to prepare a POSCAR for the diamond cubic structure. To do this, we'll import some classes from the [pymatgen](http://pymatgen.org/) library for python, which is written and maintained by the Materials Project."
   ]
  },
  {
   "cell_type": "code",
   "execution_count": 176,
   "metadata": {
    "scrolled": true
   },
   "outputs": [],
   "source": [
    "from pymatgen import Structure, Lattice, PeriodicSite\n",
    "from pymatgen.symmetry.analyzer import SpacegroupAnalyzer"
   ]
  },
  {
   "cell_type": "markdown",
   "metadata": {},
   "source": [
    "Now we'll create a lattice for DC silicon.\n",
    "\n",
    "The diamond cubic structure can be thought of as two interpenetrating face centered cubic (FCC) lattices (Let's start by defining the lattice in the more familiar interpenetrating FCC basis and then simplify it to the primitive unit cell with pymatgen. The coordinates of the atoms in the DC structure are (in terms of the lattice vectors):\n",
    "\n",
    "\n",
    "$\\big[ 0, 0, 0 \\big]$, \n",
    "$\\big[ \\frac{1}{4}, \\frac{1}{4}, \\frac{1}{4} \\big]$, \n",
    "$\\big[ \\frac{1}{2}, \\frac{1}{2}, 0 \\big]$, \n",
    "$\\big[ \\frac{1}{2}, 0, \\frac{1}{2}\\big]$, \n",
    "$\\big[ 0, \\frac{1}{2}, \\frac{1}{2}\\big]$,\n",
    "$\\big[ \\frac{1}{4}, \\frac{3}{4}, \\frac{3}{4} \\big]$, \n",
    "$\\big[ \\frac{3}{4}, \\frac{1}{4}, \\frac{3}{4} \\big]$, \n",
    "$\\big[ \\frac{3}{4}, \\frac{3}{4}, \\frac{1}{4} \\big]$\n"
   ]
  },
  {
   "cell_type": "code",
   "execution_count": 177,
   "metadata": {
    "scrolled": true
   },
   "outputs": [],
   "source": [
    "# Define the lattice parameter, in Å\n",
    "#lattice_parameter = # YOUR CODE HERE\n",
    "lattice_parameter = 5.43\n",
    "\n",
    "# Create a cubic lattice with the lattice parameter above\n",
    "cubic_lattice = Lattice.cubic(lattice_parameter)\n",
    "\n",
    "# Create a list of coordinates (i.e. [[x, y, z], [x2, y2, z2], ...])\n",
    "#DC_coordinates = # YOUR CODE HERE \n",
    "DC_coordinates = [[0, 0, 0], [0.25, 0.25, 0.25], [0.5, 0.5, 0], [0.25, 0.75, 0.75], \n",
    "                    [0.5, 0, 0.5], [0.75, 0.25, 0.75], [0, 0.5, 0.5], [0.75, 0.75, 0.25]]\n",
    "\n",
    "DC_species = [\"Si\" for coord in DC_coordinates] # creates the list of Si species used when creating the Structure\n",
    "\n",
    "# Create the structure\n",
    "Si_DC = Structure(cubic_lattice, species=DC_species, coords=DC_coordinates ) # creates the Structure\n",
    "\n",
    "# Simplify the structure to a primitive one\n",
    "Si_DC = SpacegroupAnalyzer(Si_DC).get_primitive_standard_structure()"
   ]
  },
  {
   "cell_type": "markdown",
   "metadata": {},
   "source": [
    "When you enter \"`print(Si_DC)`\", you should get something that looks similar to the following (sites may be in different order):\n",
    "\n",
    "```\n",
    "Full Formula (Si2)\n",
    "Reduced Formula: Si\n",
    "abc   :   3.839590   3.839590   3.839590\n",
    "angles:  60.000000  60.000000  60.000000\n",
    "Sites (2)\n",
    "  #  SP       a     b     c\n",
    "---  ----  ----  ----  ----\n",
    "  0  Si    0     0     0\n",
    "  1  Si    0.25  0.25  0.25\n",
    "  ```"
   ]
  },
  {
   "cell_type": "code",
   "execution_count": null,
   "metadata": {},
   "outputs": [],
   "source": [
    "print(Si_DC)"
   ]
  },
  {
   "cell_type": "markdown",
   "metadata": {},
   "source": [
    "Now, we need to prepare our VASP input files.\n",
    "\n",
    "First, let's import [Kpoints](http://pymatgen.org/pymatgen.io.vasp.inputs.html#pymatgen.io.vasp.inputs.Kpoints), [Incar](http://pymatgen.org/pymatgen.io.vasp.inputs.html#pymatgen.io.vasp.inputs.Incar), [Potcar](http://pymatgen.org/pymatgen.io.vasp.inputs.html#pymatgen.io.vasp.inputs.Potcar),  and [Pocar](http://pymatgen.org/pymatgen.io.vasp.inputs.html#pymatgen.io.vasp.inputs.Poscar) from *pymatgen* and then write some code to prepare a structure optimization calculation. We'll start off defining where we want everything saved and write a POTCAR corresonding to a PBE calculation of Si there."
   ]
  },
  {
   "cell_type": "code",
   "execution_count": 178,
   "metadata": {},
   "outputs": [],
   "source": [
    "from pymatgen.io.vasp.sets import MPRelaxSet\n",
    "from pymatgen.io.vasp.inputs import Kpoints, Poscar, Potcar, Incar, VaspInput\n",
    "    \n",
    "POTCAR = Potcar(\"Si\", functional=\"PBE\")"
   ]
  },
  {
   "cell_type": "markdown",
   "metadata": {},
   "source": [
    "Now lets use the Poscar class to create a POSCAR file for the DC-Si structure we just wrote."
   ]
  },
  {
   "cell_type": "code",
   "execution_count": null,
   "metadata": {},
   "outputs": [],
   "source": [
    "POSCAR = Poscar(Si_DC)\n",
    "POSCAR.write_file(\"{}/POSCAR\".format(directory))"
   ]
  },
  {
   "cell_type": "markdown",
   "metadata": {},
   "source": [
    "Similarly, we can create a KPOINTS file with the Kpoints class..."
   ]
  },
  {
   "cell_type": "code",
   "execution_count": 181,
   "metadata": {},
   "outputs": [
    {
     "name": "stdout",
     "output_type": "stream",
     "text": [
      "Automatic kpoint scheme\n",
      "0\n",
      "Monkhorst\n",
      "6 6 6\n",
      "\n"
     ]
    }
   ],
   "source": [
    "# fill in this tuple with desired grid dimensions (e.g. (a, b, c))\n",
    "grid = \"YOUR CODE HERE\"\n",
    "grid = (6, 6, 6)\n",
    "\n",
    "# We're using the gamma_automatic constructor here to create a grid centered at Gamma.\n",
    "KPOINTS = Kpoints.monkhorst_automatic(kpts=grid)\n",
    "\n",
    "print(KPOINTS)"
   ]
  },
  {
   "cell_type": "markdown",
   "metadata": {},
   "source": [
    "Now let's create an INCAR file. We could do that by editing the example file directly, but let's do it with code instead so we can automate that process later."
   ]
  },
  {
   "cell_type": "code",
   "execution_count": 182,
   "metadata": {
    "scrolled": true
   },
   "outputs": [],
   "source": [
    "incar_params = {\"EDIFF\" : 0.0004, \n",
    "                \"EDIFFG\" : -0.01, \n",
    "                \"ENCUT\" : \"YOUR CODE HERE\", \n",
    "                \"IBRION\" : \"YOUR CODE HERE\", \n",
    "                \"ISIF\" : \"YOUR CODE HERE\", \n",
    "                \"ISMEAR\" : \"YOUR CODE HERE\", \n",
    "                \"SIGMA\" : \"YOUR CODE HERE\" , \n",
    "                \"NSW\" : \"YOUR CODE HERE\",\n",
    "                \"LREAL\" : \"Auto\"}\n",
    "\n",
    "incar_params = {\"EDIFF\" : 0.0004, \n",
    "                \"EDIFFG\" : -0.01, \n",
    "                \"ENCUT\" : 350, \n",
    "                \"IBRION\" : 2, \n",
    "                \"ISIF\" : 3, \n",
    "                \"ISMEAR\" : 0, \n",
    "                \"SIGMA\" : 0.2 , \n",
    "                \"NSW\" : 15,\n",
    "                \"LREAL\" : \"Auto\"}"
   ]
  },
  {
   "cell_type": "code",
   "execution_count": 183,
   "metadata": {
    "scrolled": true
   },
   "outputs": [
    {
     "name": "stdout",
     "output_type": "stream",
     "text": [
      "EDIFF = 0.0004\n",
      "EDIFFG = -0.01\n",
      "ENCUT = 350\n",
      "IBRION = 2\n",
      "ISIF = 3\n",
      "ISMEAR = 0\n",
      "LREAL = Auto\n",
      "NSW = 15\n",
      "SIGMA = 0.2\n",
      "\n"
     ]
    }
   ],
   "source": [
    "INCAR = Incar.from_dict(incar_params)\n",
    "print(INCAR)"
   ]
  },
  {
   "cell_type": "code",
   "execution_count": 187,
   "metadata": {},
   "outputs": [],
   "source": [
    "def write_input_set(POTCAR, POSCAR, INCAR, KPOINTS, directory=\"new_input_set\"):\n",
    "    \n",
    "    import os\n",
    "    if not os.path.exists(directory):\n",
    "        os.makedirs(directory)\n",
    "\n",
    "    POTCAR.write_file(\"{}/POTCAR\".format(directory))\n",
    "    POSCAR.write_file(\"{}/POSCAR\".format(directory))\n",
    "    INCAR.write_file(\"{}/INCAR\".format(directory))\n",
    "    KPOINTS.write_file(\"{}/KPOINTS\".format(directory))\n",
    "    print(\"Input set written to '{}'\".format(directory))"
   ]
  },
  {
   "cell_type": "markdown",
   "metadata": {},
   "source": [
    "Okay, let's write these to our directory and then run fake_vasp on it!"
   ]
  },
  {
   "cell_type": "code",
   "execution_count": 188,
   "metadata": {},
   "outputs": [
    {
     "name": "stdout",
     "output_type": "stream",
     "text": [
      "Input set written to 'my_part_1/Si_DC'\n"
     ]
    }
   ],
   "source": [
    "# Directory where you want to save the files. e.g. \"my_part_1/Si_DC\"\n",
    "my_directory = \"my_part_1/Si_DC\" \n",
    "\n",
    "write_input_set(POTCAR, POSCAR, INCAR, KPOINTS, directory=my_directory)"
   ]
  },
  {
   "cell_type": "code",
   "execution_count": 189,
   "metadata": {},
   "outputs": [
    {
     "name": "stdout",
     "output_type": "stream",
     "text": [
      "/bin/sh: fake_vasp: command not found\r\n"
     ]
    }
   ],
   "source": [
    "!fake_vasp -in \"my_part_1/Si_DC\""
   ]
  },
  {
   "cell_type": "markdown",
   "metadata": {},
   "source": [
    "We can now repeat the same process for the $\\beta$-Sn structure. Note we only have to prepare a new POSCAR for this. "
   ]
  },
  {
   "cell_type": "code",
   "execution_count": 195,
   "metadata": {},
   "outputs": [],
   "source": [
    "# Define the lattice parameters, in Å\n",
    "#lattice_parameter_a = # YOUR CODE HERE\n",
    "#lattice_parameter_c = # YOUR CODE HERE\n",
    "lattice_parameter_a = 4.9 \n",
    "lattice_parameter_c = 2.548\n",
    "\n",
    "BSn_coordinates = [[0, 0, 0], [0.5, 0, 0.25], [0, 0.5, 0.75], [0.5, 0.5, 0.5]]\n",
    "\n",
    "# Create the tetragonal lattice\n",
    "tetragonal_lattice = Lattice.tetragonal(lattice_parameter_a, lattice_parameter_c)\n",
    "\n",
    "# Create a list of coordinates (i.e. [ [x1, y1, z1], [x2, y2, z2], ... ])\n",
    "#BSn_coordinates = # YOUR CODE HERE \n",
    "BSn_coordinates = [[0, 0, 0], [0.5, 0, 0.25], [0, 0.5, 0.75], [0.5, 0.5, 0.5]]\n",
    "\n",
    "BSn_species = [\"Si\" for coord in BSn_coordinates] # creates the list of Si species used when creating the Structure\n",
    "\n",
    "Si_BSn = Structure(tetragonal_lattice, species=BSn_species, coords=BSn_coordinates ) # creates the Structure"
   ]
  },
  {
   "cell_type": "code",
   "execution_count": 196,
   "metadata": {},
   "outputs": [
    {
     "name": "stdout",
     "output_type": "stream",
     "text": [
      "Input set written to 'my_part_1/Si_BSn'\n"
     ]
    }
   ],
   "source": [
    "my_directory = \"my_part_1/Si_BSn\" \n",
    "\n",
    "POSCAR = Poscar(Si_BSn)\n",
    "\n",
    "write_input_set(POTCAR, POSCAR, INCAR, KPOINTS, directory=my_directory)"
   ]
  },
  {
   "cell_type": "code",
   "execution_count": null,
   "metadata": {},
   "outputs": [],
   "source": []
  }
 ],
 "metadata": {
  "kernelspec": {
   "display_name": "Python [conda env:mse215] *",
   "language": "python",
   "name": "conda-env-mse215-py"
  },
  "language_info": {
   "codemirror_mode": {
    "name": "ipython",
    "version": 3
   },
   "file_extension": ".py",
   "mimetype": "text/x-python",
   "name": "python",
   "nbconvert_exporter": "python",
   "pygments_lexer": "ipython3",
   "version": "3.7.1"
  }
 },
 "nbformat": 4,
 "nbformat_minor": 2
}
