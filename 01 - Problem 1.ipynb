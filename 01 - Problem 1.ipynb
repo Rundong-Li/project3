{
 "cells": [
  {
   "cell_type": "markdown",
   "metadata": {},
   "source": [
    "# Project 3: Density Functional Theory and Machine Learning"
   ]
  },
  {
   "cell_type": "markdown",
   "metadata": {},
   "source": [
    "## Problem 1: Preparing VASP Input Files\n",
    "\n",
    "### Part A: Writing POSCAR Files (Conventional Standard Unit Cell Version)\n",
    "\n",
    "In VASP, the POSCAR file specifies the positions of all of the atoms in a calculation. In this part of the project we'll be preparing two POSCAR files: One for diamond cubic Si and one for $\\beta$-Sn Si.\n",
    "\n",
    "**For Part 1A of this project, please prepare a POSCAR for each of the two structures.**\n",
    "\n",
    "#### Diamond Cubic Si\n",
    "\n",
    "The diamond cubic structure can be thought of as two interpenetrating face centered cubic (FCC) lattices (you can find a detailed description of the structure [here](http://web.iitd.ac.in/~ajeetk/AML736/Assignment2_Prob3.pdf)). Use the experimental value (5.43Å) for the cubic lattice parameter and place Si atoms at the following positions (coordinates are in terms of the lattice vectors):\n",
    "\n",
    "\n",
    "$\\big[ 0, 0, 0 \\big]$, \n",
    "$\\big[ \\frac{1}{4}, \\frac{1}{4}, \\frac{1}{4} \\big]$, \n",
    "$\\big[ \\frac{1}{2}, \\frac{1}{2}, 0 \\big]$, \n",
    "$\\big[ \\frac{1}{2}, 0, \\frac{1}{2}\\big]$, \n",
    "$\\big[ 0, \\frac{1}{2}, \\frac{1}{2}\\big]$,\n",
    "$\\big[ \\frac{1}{4}, \\frac{3}{4}, \\frac{3}{4} \\big]$, \n",
    "$\\big[ \\frac{3}{4}, \\frac{1}{4}, \\frac{3}{4} \\big]$, \n",
    "$\\big[ \\frac{3}{4}, \\frac{3}{4}, \\frac{1}{4} \\big]$\n",
    "\n",
    "\n",
    "#### Beta-Tin  Si\n",
    "The $\\beta$-Sn structure is a tetragonal structure ($|a| = |b| \\ne |c|$, $\\alpha = \\beta = \\gamma = 90°$) where a, and c are the lattice parameters (4.9Å and 2.548Å):\n",
    "\n",
    "$\\vec{a_1} = a\\vec{e_x} + 0\\vec{e_y} + 0\\vec{e_z} $\n",
    "\n",
    "$\\vec{a_2} = 0\\vec{e_x} + a\\vec{e_y} +  0\\vec{e_z} $\n",
    "\n",
    "$\\vec{a_3} = 0\\vec{e_x} + 0\\vec{e_y} + c\\vec{e_z} $\n",
    "\n",
    "\n",
    "with atoms at (coordinates are in terms of the lattice vectors):\n",
    "\n",
    "\n",
    "$\\big[ 0, 0, 0 \\big]$, \n",
    "$\\big[ \\frac{1}{2}, 0, \\frac{1}{4} \\big]$, \n",
    "$\\big[ 0, \\frac{1}{2}, \\frac{3}{4} \\big]$, \n",
    "$\\big[ \\frac{1}{2}, \\frac{1}{2}, \\frac{1}{2} \\big]$, \n",
    "\n"
   ]
  },
  {
   "cell_type": "markdown",
   "metadata": {},
   "source": [
    "## Problem 1: Preparing VASP Input Files\n",
    "\n",
    "### Part A: Writing POSCAR Files POSCAR Files (Primitive Unit Cell Version)\n",
    "\n",
    "In VASP, the POSCAR file specifies the positions of all of the atoms in a calculation. In this part of the project we'll be preparing two POSCAR files: One for diamond cubic Si and one for $\\beta$-Sn Si.\n",
    "\n",
    "**For Part 1A of this project, please prepare a POSCAR for each of the two structures.**\n",
    "\n",
    "#### Diamond Cubic Si\n",
    "\n",
    "You can find a detailed description of the structure [here](http://web.iitd.ac.in/~ajeetk/AML736/Assignment2_Prob3.pdf).The diamond cubic structure has lattice vectors:\n",
    "\n",
    "$\\vec{a_1} = 0\\vec{e_x} + \\frac{a}{2}\\vec{e_y} + \\frac{a}{2}\\vec{e_z} $\n",
    "\n",
    "$\\vec{a_2} = \\frac{a}{2}\\vec{e_x} + 0\\vec{e_y} +  \\frac{a}{2}\\vec{e_z} $\n",
    "\n",
    "$\\vec{a_3} = \\frac{a}{2}\\vec{e_x} + \\frac{a}{2}\\vec{e_y} + 0\\vec{e_z} $\n",
    "\n",
    "and two atoms at each lattice point with basis vectors:\n",
    "\n",
    "$\\tau_1 =  (0, 0, 0)$\n",
    "\n",
    "$\\tau_2 =  (\\frac{1}{4}, \\frac{1}{4}, \\frac{1}{4})$\n",
    "\n",
    "where $a$ is the lattice parameter (use the experimental value of a = 5.43 Å). \n",
    "\n",
    "\n",
    "#### Beta-Tin  Si\n",
    "\n",
    "The $\\beta$-Sn structure has lattice vectors:\n",
    "\n",
    "$\\vec{a_1} = a\\vec{e_x} + 0\\vec{e_y} + 0\\vec{e_z} $\n",
    "\n",
    "$\\vec{a_2}  = 0\\vec{e_x} + a\\vec{e_y} +  0\\vec{e_z} $\n",
    "\n",
    "$\\vec{a_3}  = \\frac{a}{2}\\vec{e_x} + \\frac{a}{2}\\vec{e_y} + \\frac{c}{2}\\vec{e_z} $\n",
    "\n",
    "and two atoms at each lattice point with basis vectors:\n",
    "\n",
    "$\\tau_1 =  (-\\frac{1}{8}, -\\frac{3}{8}, \\frac{1}{4})$\n",
    "\n",
    "$\\tau_2 =  (\\frac{1}{8}, \\frac{3}{8}, -\\frac{1}{4})$\n",
    "\n",
    "where $a$ and $c$ are the lattice parameters (use values of a = 4.9 Å, c = 2.548 Å). \n",
    "\n",
    "\n",
    "#### *You can find a pymatgen walkthough for this part of the problem at the end of this notebook.*\n",
    "\n",
    "___\n",
    "\n"
   ]
  },
  {
   "cell_type": "markdown",
   "metadata": {},
   "source": [
    "### Part B: INCAR and KPOINTS Files\n",
    "\n",
    "#### The INCAR File\n",
    "The INCAR file is the main input file for VASP calculations. The INCAR flags we will be changing over the course of this project are [ENCUT](https://cms.mpi.univie.ac.at/vasp/vasp/ENCUT_tag.html), [ISMEAR + SIGMA](https://cms.mpi.univie.ac.at/vasp/guide/node124.html), [NBANDS](https://cms.mpi.univie.ac.at/vasp/vasp/NBANDS_tag.html), and [ISIF](https://cms.mpi.univie.ac.at/vasp/vasp/ISIF_tag.html). Over the course of this project you will learn more about what these flags do and how these parameters affect DFT calculations. \n",
    "\n",
    "#### The KPOINTS File\n",
    "The KPOINTS file is also very important as it defines the k-points mesh that we will perform our calculation over. VASP can auto-generate k-point meshes with various schemes [(more info here)](https://cms.mpi.univie.ac.at/vasp/vasp/Automatic_k_mesh_generation.html). \n",
    "\n",
    "\n",
    "\n",
    "\n",
    "**For Part 1B of this project, please prepare an INCAR file and a KPOINTS file that would create a structure optimization calculation (ISIF = ?) over a 6x6x6 k-points grid centered at the $\\Gamma$ point with a cutoff energy of 250 eV (ENCUT = ?). Use the VASP documentation linked above to determine which flags to change and what values to use. You can find default INCAR and KPOINTS files in the \"part_1\" directory of this repo.**\n",
    "\n",
    "---\n",
    "\n",
    "\n"
   ]
  },
  {
   "cell_type": "markdown",
   "metadata": {},
   "source": [
    "### Submission Instructions for Problem 1\n",
    "\n",
    "Please submit your POSCAR, INCAR, and KPOINTS files using the following form (run the cell with shift + enter if you can't see/interact with the form). \n",
    "\n",
    "We will verify the files and then run them on Savio (Berkeley's Supercomputer) for you and send you back the results of your calculation for Part C."
   ]
  },
  {
   "cell_type": "code",
   "execution_count": 86,
   "metadata": {
    "scrolled": false
   },
   "outputs": [
    {
     "data": {
      "text/html": [
       "\n",
       "<iframe \n",
       "\tsrc=\"https://script.google.com/a/berkeley.edu/macros/s/AKfycbxtclvb04D5nax7K9LZUHhGIJhW6n_F-b-7hz0YD06xSdcNb-o/exec\" \n",
       "\twidth=\"90%\" \n",
       "\theight=\"1200px\" \n",
       "\tframeborder=\"0\" \n",
       "\tmarginheight=\"0\" \n",
       "\tmarginwidth=\"0\">\n",
       "\tLoading...\n",
       "</iframe>\n"
      ],
      "text/plain": [
       "<IPython.core.display.HTML object>"
      ]
     },
     "execution_count": 86,
     "metadata": {},
     "output_type": "execute_result"
    }
   ],
   "source": [
    "from IPython.display import HTML\n",
    "HTML(\n",
    "\"\"\"\n",
    "<iframe \n",
    "\tsrc=\"https://script.google.com/a/berkeley.edu/macros/s/AKfycbxtclvb04D5nax7K9LZUHhGIJhW6n_F-b-7hz0YD06xSdcNb-o/exec\" \n",
    "\twidth=\"90%\" \n",
    "\theight=\"1200px\" \n",
    "\tframeborder=\"0\" \n",
    "\tmarginheight=\"0\" \n",
    "\tmarginwidth=\"0\">\n",
    "\tLoading...\n",
    "</iframe>\n",
    "\"\"\"\n",
    ")"
   ]
  },
  {
   "cell_type": "markdown",
   "metadata": {},
   "source": [
    "---\n",
    "\n",
    "## Part 1 Pymatgen Walkthough"
   ]
  },
  {
   "cell_type": "markdown",
   "metadata": {},
   "source": [
    "First, we need to prepare a POSCAR for the diamond cubic structure. To do this, we'll import some classes from the [pymatgen](http://pymatgen.org/) library for python, which is written and maintained by the Materials Project. We'll also import numpy to gain access to its array object (similar to Matlab arrays)."
   ]
  },
  {
   "cell_type": "code",
   "execution_count": 90,
   "metadata": {
    "scrolled": true
   },
   "outputs": [],
   "source": [
    "from pymatgen import Structure, Lattice, PeriodicSite\n",
    "import numpy as np"
   ]
  },
  {
   "cell_type": "markdown",
   "metadata": {},
   "source": [
    "Now we'll create a lattice for DC silicon. "
   ]
  },
  {
   "cell_type": "code",
   "execution_count": null,
   "metadata": {},
   "outputs": [],
   "source": [
    "# # Define the lattice parameter, in Å\n",
    "# #lattice_parameter = # YOUR CODE HERE\n",
    "# lattice_parameter = 5.43\n",
    "\n",
    "# # Fill in the lattice vectors, in Å, in the list below.\n",
    "# vectors = [[], [], []]\n",
    "# vectors = [[0, 1/2, 1/2], [1/2, 0, 1/2], [1/2, 1/2, 0], ]\n",
    "# vectors = lattice_parameter * np.array(vectors)\n",
    "# DC_lattice = Lattice(vectors)\n",
    "\n",
    "# # Create a list of coordinates (i.e. [[x, y, z], [x2, y2, z2], ...])\n",
    "# #DC_coordinates = # YOUR CODE HERE \n",
    "# DC_coordinates = [[0, 0, 0], [0.25, 0.25, 0.25], [0.5, 0.5, 0], [0.25, 0.75, 0.75], \n",
    "#                     [0.5, 0, 0.5], [0.75, 0.25, 0.75], [0, 0.5, 0.5], [0.75, 0.75, 0.25]]\n",
    "\n",
    "# DC_species = [\"Si\" for coord in DC_coordinates] # creates the list of Si species used when creating the Structure\n",
    "\n",
    "# Si_DC = Structure(cubic_lattice, species=DC_species, coords=DC_coordinates ) # creates the Structure"
   ]
  },
  {
   "cell_type": "code",
   "execution_count": 101,
   "metadata": {
    "scrolled": true
   },
   "outputs": [],
   "source": [
    "# Define the lattice parameter, in Å\n",
    "#lattice_parameter = # YOUR CODE HERE\n",
    "lattice_parameter = 5.43\n",
    "\n",
    "# Create a list of lattice vectors, in Å\n",
    "vectors = [[], []]\n",
    "\n",
    "cubic_lattice = Lattice.cubic(lattice_parameter)\n",
    "\n",
    "# Create a list of coordinates (i.e. [[x, y, z], [x2, y2, z2], ...])\n",
    "#DC_coordinates = # YOUR CODE HERE \n",
    "DC_coordinates = [[0, 0, 0], [0.25, 0.25, 0.25], [0.5, 0.5, 0], [0.25, 0.75, 0.75], \n",
    "                    [0.5, 0, 0.5], [0.75, 0.25, 0.75], [0, 0.5, 0.5], [0.75, 0.75, 0.25]]\n",
    "\n",
    "DC_species = [\"Si\" for coord in DC_coordinates] # creates the list of Si species used when creating the Structure\n",
    "\n",
    "Si_DC = Structure(cubic_lattice, species=DC_species, coords=DC_coordinates ) # creates the Structure"
   ]
  },
  {
   "cell_type": "markdown",
   "metadata": {},
   "source": [
    "When you enter \"`print(Si_DC)`\", you should get something that looks similar to the following (sites may be in different order):\n",
    "\n",
    "```\n",
    "Full Formula (Si8)\n",
    "Reduced Formula: Si\n",
    "abc   :   5.430000   5.430000   5.430000\n",
    "angles:  90.000000  90.000000  90.000000\n",
    "Sites (8)\n",
    "  #  SP       a     b     c\n",
    "---  ----  ----  ----  ----\n",
    "  0  Si    0     0     0\n",
    "  1  Si    0.25  0.25  0.25\n",
    "  2  Si    0.5   0.5   0\n",
    "  3  Si    0.25  0.75  0.75\n",
    "  4  Si    0.5   0     0.5\n",
    "  5  Si    0.75  0.25  0.75\n",
    "  6  Si    0     0.5   0.5\n",
    "  7  Si    0.75  0.75  0.25\n",
    "  ```"
   ]
  },
  {
   "cell_type": "code",
   "execution_count": 103,
   "metadata": {},
   "outputs": [
    {
     "name": "stdout",
     "output_type": "stream",
     "text": [
      "Full Formula (Si8)\n",
      "Reduced Formula: Si\n",
      "abc   :   5.430000   5.430000   5.430000\n",
      "angles:  90.000000  90.000000  90.000000\n",
      "Sites (8)\n",
      "  #  SP       a     b     c\n",
      "---  ----  ----  ----  ----\n",
      "  0  Si    0     0     0\n",
      "  1  Si    0.25  0.25  0.25\n",
      "  2  Si    0.5   0.5   0\n",
      "  3  Si    0.25  0.75  0.75\n",
      "  4  Si    0.5   0     0.5\n",
      "  5  Si    0.75  0.25  0.75\n",
      "  6  Si    0     0.5   0.5\n",
      "  7  Si    0.75  0.75  0.25\n"
     ]
    }
   ],
   "source": [
    "print(Si_DC)"
   ]
  },
  {
   "cell_type": "markdown",
   "metadata": {},
   "source": [
    "Now, we need to prepare our VASP input files.\n",
    "\n",
    "First, let's import [Kpoints](http://pymatgen.org/pymatgen.io.vasp.inputs.html#pymatgen.io.vasp.inputs.Kpoints), [Incar](http://pymatgen.org/pymatgen.io.vasp.inputs.html#pymatgen.io.vasp.inputs.Incar)  and [Poscar](http://pymatgen.org/pymatgen.io.vasp.inputs.html#pymatgen.io.vasp.inputs.Poscar) from *pymatgen* and then write a code to prepare individual structure optimization calculations.\n",
    "\n",
    "We'll use the parameters set in the [MPRelaxSet](http://pymatgen.org/pymatgen.io.vasp.sets.html?highlight=mprelaxset#pymatgen.io.vasp.sets.MPRelaxSet) as a starting point for our INCAR and KPOINTS files. "
   ]
  },
  {
   "cell_type": "code",
   "execution_count": 137,
   "metadata": {},
   "outputs": [],
   "source": [
    "from pymatgen.io.vasp.sets import MPRelaxSet\n",
    "from pymatgen.io.vasp.inputs import Kpoints, Poscar, Incar\n",
    "\n",
    "POSCAR = Poscar(Si_DC)\n",
    "# POSCAR.write_file(\"part_1/Si_DC/POSCAR\")\n",
    "\n",
    "relax_set = MPRelaxSet(Si_DC)\n",
    "# relax_set.write_input(\"part_1/Si_DC\")"
   ]
  },
  {
   "cell_type": "markdown",
   "metadata": {},
   "source": [
    "Looking at these files we just created, we can see that we need to change ENCUT in the INCAR file. We could do that by editing the file directly, but let's do it in the code instead so we can automate that process. Let's re-create that MPRelaxSet with our custom k-points settings."
   ]
  },
  {
   "cell_type": "code",
   "execution_count": 144,
   "metadata": {},
   "outputs": [],
   "source": [
    "# fill in this tuple with desired grid dimensions (e.g. (a, b, c))\n",
    "grid = \"YOUR CODE HERE\"\n",
    "grid = (6, 6, 6)\n",
    "# We're using the gamma_automatic constructor here to create a grid centered at Gamma.\n",
    "my_kpoints = Kpoints.gamma_automatic(kpts=grid)"
   ]
  },
  {
   "cell_type": "code",
   "execution_count": 148,
   "metadata": {},
   "outputs": [
    {
     "name": "stdout",
     "output_type": "stream",
     "text": [
      "Automatic kpoint scheme\n",
      "0\n",
      "Gamma\n",
      "6 6 6\n",
      "\n"
     ]
    }
   ],
   "source": [
    "relax_set = MPRelaxSet(Si_DC, user_kpoints_settings=my_kpoints)\n",
    "print(relax_set.kpoints)"
   ]
  },
  {
   "cell_type": "markdown",
   "metadata": {},
   "source": [
    "We have a similar situation with the ENCUT flag in the INCAR. Let's specify that change as well. "
   ]
  },
  {
   "cell_type": "code",
   "execution_count": 150,
   "metadata": {
    "scrolled": true
   },
   "outputs": [
    {
     "name": "stdout",
     "output_type": "stream",
     "text": [
      "ALGO = Fast\n",
      "EDIFF = 0.0004\n",
      "ENCUT = 400\n",
      "IBRION = 2\n",
      "ICHARG = 1\n",
      "ISIF = 3\n",
      "ISMEAR = -5\n",
      "ISPIN = 2\n",
      "LORBIT = 11\n",
      "LREAL = Auto\n",
      "LWAVE = False\n",
      "MAGMOM = 8*0.6\n",
      "NELM = 100\n",
      "NSW = 99\n",
      "PREC = Accurate\n",
      "SIGMA = 0.05\n",
      "\n"
     ]
    }
   ],
   "source": [
    "# fill in this dictionary with the update you want to make \n",
    "# to the INCAR. It should look something like {\"FLAG1\" : value1}\n",
    "my_incar_settings = {\"YOUR CODE HERE\"}\n",
    "my_incar_settings = {\"ENCUT\": 400}\n",
    "\n",
    "relax_set = MPRelaxSet(Si_DC, user_kpoints_settings=my_kpoints, user_incar_settings=my_incar_settings)\n",
    "print(relax_set.incar)"
   ]
  },
  {
   "cell_type": "markdown",
   "metadata": {},
   "source": [
    "Looks good! Now let's write it. "
   ]
  },
  {
   "cell_type": "code",
   "execution_count": null,
   "metadata": {},
   "outputs": [],
   "source": [
    "relax_set.write_input(\"part_1/Si_DC\")"
   ]
  },
  {
   "cell_type": "markdown",
   "metadata": {},
   "source": [
    "We can now repeat the same process for the $\\beta$-Sn structure"
   ]
  },
  {
   "cell_type": "code",
   "execution_count": 151,
   "metadata": {},
   "outputs": [],
   "source": [
    "# Define the lattice parameter, in Å\n",
    "#lattice_parameter = # YOUR CODE HERE\n",
    "# lattice_parameter_a = # YOUR CODE HERE\n",
    "# lattice_parameter_c = # YOUR CODE HERE\n",
    "lattice_parameter_a = 4.9 \n",
    "lattice_parameter_c = 2.548\n",
    "\n",
    "# Create a list of lattice vectors, in Å\n",
    "vectors = [[], []]\n",
    "\n",
    "tetragonal_lattice = Lattice.tetragonal(lattice_parameter_a, lattice_parameter_c)\n",
    "\n",
    "# Create a list of coordinates (i.e. [ [x1, y1, z1], [x2, y2, z2], ... ])\n",
    "#BSn_coordinates = # YOUR CODE HERE \n",
    "BSn_coordinates = [[0, 0, 0], [0.5, 0, 0.25], [0, 0.5, 0.75], [0.5, 0.5, 0.5]]\n",
    "\n",
    "BSn_species = [\"Si\" for coord in BSn_coordinates] # creates the list of Si species used when creating the Structure\n",
    "\n",
    "Si_BSn = Structure(tetragonal_lattice, species=BSn_species, coords=BSn_coordinates ) # creates the Structure\n",
    "\n",
    "relax_set = MPRelaxSet(Si_BSn, user_kpoints_settings=my_kpoints, user_incar_settings=my_incar_settings)\n",
    "relax_set.write_input(\"part_1/Si_BSn\")"
   ]
  },
  {
   "cell_type": "code",
   "execution_count": null,
   "metadata": {},
   "outputs": [],
   "source": []
  }
 ],
 "metadata": {
  "kernelspec": {
   "display_name": "Python [conda env:mse215] *",
   "language": "python",
   "name": "conda-env-mse215-py"
  },
  "language_info": {
   "codemirror_mode": {
    "name": "ipython",
    "version": 3
   },
   "file_extension": ".py",
   "mimetype": "text/x-python",
   "name": "python",
   "nbconvert_exporter": "python",
   "pygments_lexer": "ipython3",
   "version": "3.7.1"
  }
 },
 "nbformat": 4,
 "nbformat_minor": 2
}
