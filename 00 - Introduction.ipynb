{
 "cells": [
  {
   "cell_type": "markdown",
   "metadata": {},
   "source": [
    "# Project 3: Density Functional Theory and Machine Learning\n",
    "\n",
    "\n",
    "## Introduction\n",
    "\n",
    "In this project, you are going to be using VASP (Vienna Ab Initio Simulation Package, https://www.vasp.at) to study the pressure driven structural transition in Si. At standard temperature and pressure conditions the ground state of Si is the diamond cubic structure. The diamond cubic structure is a face center cubic (FCC) lattice with a two-atom basis. At elevated pressures Si is known to have a structural phase transition to the β-Sn structure at a pressure of 15.2 GPa. Both structures are shown below.\n",
    "\n",
    "\n",
    "<img src=\"static/structures.png\" alt=\"diamond cubic Si and beta-Sn Si\" width=\"500\"/>\n",
    "\n",
    "The figure of the diamond cubic structure is actually shown as a body centered tetragonal structure, hopefully helping you see the similarity between the two structures. (It is always possible to represent the FCC & BCC lattices as a body-centered tetragonal lattice.) This representation also allows one to study the transformation pathway between the phases. Another example of a transformation is the Bain transformation caused by strain that takes BCC to FCC in iron. Here it is possible to obtain both the diamond cubic phase and the β-Sn structures of Si merely by changing the ratio of c/a. \n",
    "\n",
    "We are going to use VASP to predict the hydrostatic pressure at which Si transforms from the diamond-cubic structure to the β-Sn structure. The procedure is straightforward. You will compute the energy as a function of volume for the two crystal structures and then fit the energy vs. volume curves to an equation of state. You can then determine the transition pressure using standard thermodynamic arguments. \n",
    "\n",
    "---\n"
   ]
  },
  {
   "cell_type": "markdown",
   "metadata": {},
   "source": [
    "## VASP Background: \n",
    "\n",
    "VASP is a very complex program with many sections of code and input files. In this short module on electronic structure methods, which VASP is one of, we will not attempt to understand everything in the code, but focus on key aspects of the code.\n",
    "\n",
    "- Performs the electronic and ionic minimization and calculates the ground-state properties using Kohn-Sham (KS) orbitals expanded with Planewave (PW) basis set. \n",
    "- Solves the KS equations self-consistently with an iterative matrix diagonalization and mixing of charge densities. \n",
    "- Calculates the energy terms of the KS Hamiltonian and the charge densities in real and reciprocal spaces via fast Fourier transformations (FFT). \n",
    "- Works for any system including atoms, molecules, bulk solids, surfaces, clusters, etc. \n",
    "- Provides the pseudopotentials USPP, PAW, etc for most elements. \n",
    "- Provides the exchange correlation functionals of LDA, PBE, hybrids, etc. \n",
    "\n",
    "### Input files: \n",
    "On the cluster you will find the files that are required to run VASP: INCAR, KPOINTS, POSCAR and POTCAR. \n",
    "\n",
    "#### INCAR: \n",
    "This is the central file that controls the run with flags, which allow you to control many aspects of a run. Most of the flags will be left in their default setting. [more info](https://cms.mpi.univie.ac.at/vasp/vasp/INCAR_File.html)\n",
    "\n",
    "#### KPOINTS: \n",
    "This allows you to control the sampling of the Irreducible Brillouin Zone. The simplest way to think about this is to compare this to integrating and the more points you use to integrate over the more accurate (generally) your answer is. [more info](https://cms.mpi.univie.ac.at/wiki/index.php/KPOINTS)\n",
    "\n",
    "\n",
    "#### POSCAR: \n",
    "This contains the structural information for the system, the lattice and the position of the atoms. [more info](https://cms.mpi.univie.ac.at/vasp/guide/node59.html)\n",
    "\n",
    "#### POTCAR: \n",
    "This contains the information about the potential and exchange correlation functions. [more info](https://cms.mpi.univie.ac.at/vasp/vasp/POTCAR_file.html)\n",
    "\n",
    "For more information on VASP please see the [VASP Manual.](http://cms.mpi.univie.ac.at/vasp/vasp/vasp.html)"
   ]
  }
 ],
 "metadata": {
  "kernelspec": {
   "display_name": "Python [conda env:mse215] *",
   "language": "python",
   "name": "conda-env-mse215-py"
  },
  "language_info": {
   "codemirror_mode": {
    "name": "ipython",
    "version": 3
   },
   "file_extension": ".py",
   "mimetype": "text/x-python",
   "name": "python",
   "nbconvert_exporter": "python",
   "pygments_lexer": "ipython3",
   "version": "3.7.1"
  }
 },
 "nbformat": 4,
 "nbformat_minor": 2
}
